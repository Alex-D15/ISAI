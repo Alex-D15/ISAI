{
 "cells": [
  {
   "cell_type": "markdown",
   "metadata": {},
   "source": [
    "# Subevent Collaborative Filtering"
   ]
  },
  {
   "cell_type": "markdown",
   "metadata": {},
   "source": [
    "## Import"
   ]
  },
  {
   "cell_type": "code",
   "execution_count": 259,
   "metadata": {},
   "outputs": [],
   "source": [
    "import pandas as pd\n",
    "import surprise as sur\n",
    "import numpy as np\n",
    "import matplotlib.pyplot as plt\n",
    "from time import time\n",
    "from collections import defaultdict\n",
    "import statistics\n",
    "import math\n",
    "\n",
    "from sklearn import preprocessing as pre\n",
    "from surprise import SVD\n",
    "from surprise import KNNBasic\n",
    "from surprise import Dataset\n",
    "from surprise.model_selection import cross_validate\n",
    "from surprise.model_selection import GridSearchCV\n"
   ]
  },
  {
   "cell_type": "markdown",
   "metadata": {},
   "source": [
    "## Utils"
   ]
  },
  {
   "cell_type": "code",
   "execution_count": 187,
   "metadata": {},
   "outputs": [],
   "source": [
    "def get_top_n(predictions, n=10):\n",
    "    \"\"\"Return the top-N recommendation for each user from a set of predictions.\n",
    "\n",
    "    Args:\n",
    "        predictions(list of Prediction objects): The list of predictions, as\n",
    "            returned by the test method of an algorithm.\n",
    "        n(int): The number of recommendation to output for each user. Default\n",
    "            is 10.\n",
    "\n",
    "    Returns:\n",
    "    A dict where keys are user (raw) ids and values are lists of tuples:\n",
    "        [(raw item id, rating estimation), ...] of size n.\n",
    "    \"\"\"\n",
    "\n",
    "    # First map the predictions to each user.\n",
    "    top_n = defaultdict(list)\n",
    "    for uid, iid, true_r, est, _ in predictions:\n",
    "        top_n[uid].append((iid, est))\n",
    "\n",
    "    # Then sort the predictions for each user and retrieve the k highest ones.\n",
    "    for uid, user_ratings in top_n.items():\n",
    "        user_ratings.sort(key=lambda x: x[1], reverse=True)\n",
    "        top_n[uid] = user_ratings[:n]\n",
    "\n",
    "    return top_n"
   ]
  },
  {
   "cell_type": "markdown",
   "metadata": {},
   "source": [
    "## Read csv"
   ]
  },
  {
   "cell_type": "markdown",
   "metadata": {},
   "source": [
    "Data obtained with this query"
   ]
  },
  {
   "attachments": {
    "271f3e4c-0a0c-4579-9629-30bb2f340e0d.png": {
     "image/png": "[encoded data removed]"
    }
   },
   "cell_type": "markdown",
   "metadata": {},
   "source": [
    "![image.png](attachment:271f3e4c-0a0c-4579-9629-30bb2f340e0d.png)"
   ]
  },
  {
   "cell_type": "markdown",
   "metadata": {},
   "source": [
    "per sapere quanto è piaciuto un evento ad un utente guardare fra tutte le giocate dell'utente quanto ci ha scommesso rispetto agli altri\n",
    "\n",
    "sortare gli importi per ogni evento\n",
    "assegnare un voto per ogni evento a seconda dei percentili\n",
    "sia su importo totale \n",
    "sia su numero di volte\n",
    "\n",
    "pesare gli importi con distanza nel tempo"
   ]
  },
  {
   "cell_type": "code",
   "execution_count": 194,
   "metadata": {},
   "outputs": [],
   "source": [
    "df = pd.read_csv(r'C:\\Users\\a.ceci\\Desktop\\Alex\\AI Data\\SubEventsCF\\itemCFdata.csv', skiprows=0)"
   ]
  },
  {
   "cell_type": "code",
   "execution_count": 195,
   "metadata": {},
   "outputs": [
    {
     "data": {
      "text/html": [
       "<div>\n",
       "<style scoped>\n",
       "    .dataframe tbody tr th:only-of-type {\n",
       "        vertical-align: middle;\n",
       "    }\n",
       "\n",
       "    .dataframe tbody tr th {\n",
       "        vertical-align: top;\n",
       "    }\n",
       "\n",
       "    .dataframe thead th {\n",
       "        text-align: right;\n",
       "    }\n",
       "</style>\n",
       "<table border=\"1\" class=\"dataframe\">\n",
       "  <thead>\n",
       "    <tr style=\"text-align: right;\">\n",
       "      <th></th>\n",
       "      <th>IDUtente</th>\n",
       "      <th>Team</th>\n",
       "      <th>Importo</th>\n",
       "    </tr>\n",
       "  </thead>\n",
       "  <tbody>\n",
       "    <tr>\n",
       "      <th>0</th>\n",
       "      <td>1773</td>\n",
       "      <td>(Mercedes) L.Hamilton</td>\n",
       "      <td>105.8940</td>\n",
       "    </tr>\n",
       "    <tr>\n",
       "      <th>1</th>\n",
       "      <td>536</td>\n",
       "      <td>(Racing Point) S.Perez</td>\n",
       "      <td>57.6900</td>\n",
       "    </tr>\n",
       "    <tr>\n",
       "      <th>2</th>\n",
       "      <td>15746</td>\n",
       "      <td>07 Vestur</td>\n",
       "      <td>5.1579</td>\n",
       "    </tr>\n",
       "    <tr>\n",
       "      <th>3</th>\n",
       "      <td>4734</td>\n",
       "      <td>1 Dezembro</td>\n",
       "      <td>250.0000</td>\n",
       "    </tr>\n",
       "    <tr>\n",
       "      <th>4</th>\n",
       "      <td>9295</td>\n",
       "      <td>1 Dezembro</td>\n",
       "      <td>5000.0000</td>\n",
       "    </tr>\n",
       "  </tbody>\n",
       "</table>\n",
       "</div>"
      ],
      "text/plain": [
       "   IDUtente                    Team    Importo\n",
       "0      1773   (Mercedes) L.Hamilton   105.8940\n",
       "1       536  (Racing Point) S.Perez    57.6900\n",
       "2     15746               07 Vestur     5.1579\n",
       "3      4734              1 Dezembro   250.0000\n",
       "4      9295              1 Dezembro  5000.0000"
      ]
     },
     "execution_count": 195,
     "metadata": {},
     "output_type": "execute_result"
    }
   ],
   "source": [
    "df.head()"
   ]
  },
  {
   "cell_type": "code",
   "execution_count": 196,
   "metadata": {},
   "outputs": [
    {
     "data": {
      "text/plain": [
       "(179123, 3)"
      ]
     },
     "execution_count": 196,
     "metadata": {},
     "output_type": "execute_result"
    }
   ],
   "source": [
    "df.shape"
   ]
  },
  {
   "cell_type": "code",
   "execution_count": 197,
   "metadata": {},
   "outputs": [
    {
     "data": {
      "text/html": [
       "<div>\n",
       "<style scoped>\n",
       "    .dataframe tbody tr th:only-of-type {\n",
       "        vertical-align: middle;\n",
       "    }\n",
       "\n",
       "    .dataframe tbody tr th {\n",
       "        vertical-align: top;\n",
       "    }\n",
       "\n",
       "    .dataframe thead th {\n",
       "        text-align: right;\n",
       "    }\n",
       "</style>\n",
       "<table border=\"1\" class=\"dataframe\">\n",
       "  <thead>\n",
       "    <tr style=\"text-align: right;\">\n",
       "      <th>Team</th>\n",
       "      <th>(Mercedes) L.Hamilton</th>\n",
       "      <th>(Racing Point) S.Perez</th>\n",
       "      <th>07 Vestur</th>\n",
       "      <th>1 Dezembro</th>\n",
       "      <th>1. FFC Frankfurt Women</th>\n",
       "      <th>1860 Munich</th>\n",
       "      <th>1877 Alemdag</th>\n",
       "      <th>1922 Konyaspor</th>\n",
       "      <th>4 de Julho</th>\n",
       "      <th>9 de Octubre</th>\n",
       "      <th>...</th>\n",
       "      <th>Zira IK</th>\n",
       "      <th>Ziraat Bankasi Ankara</th>\n",
       "      <th>Zlate Moravce</th>\n",
       "      <th>Zlatibor</th>\n",
       "      <th>Znamya Noginsk</th>\n",
       "      <th>Zob Ahan</th>\n",
       "      <th>Zonguldak Komurspor</th>\n",
       "      <th>Zoo Kericho FC</th>\n",
       "      <th>Zrinjski Mostar</th>\n",
       "      <th>Zweigen Kanazawa</th>\n",
       "    </tr>\n",
       "    <tr>\n",
       "      <th>IDUtente</th>\n",
       "      <th></th>\n",
       "      <th></th>\n",
       "      <th></th>\n",
       "      <th></th>\n",
       "      <th></th>\n",
       "      <th></th>\n",
       "      <th></th>\n",
       "      <th></th>\n",
       "      <th></th>\n",
       "      <th></th>\n",
       "      <th></th>\n",
       "      <th></th>\n",
       "      <th></th>\n",
       "      <th></th>\n",
       "      <th></th>\n",
       "      <th></th>\n",
       "      <th></th>\n",
       "      <th></th>\n",
       "      <th></th>\n",
       "      <th></th>\n",
       "      <th></th>\n",
       "    </tr>\n",
       "  </thead>\n",
       "  <tbody>\n",
       "    <tr>\n",
       "      <th>388</th>\n",
       "      <td>NaN</td>\n",
       "      <td>NaN</td>\n",
       "      <td>NaN</td>\n",
       "      <td>NaN</td>\n",
       "      <td>NaN</td>\n",
       "      <td>NaN</td>\n",
       "      <td>NaN</td>\n",
       "      <td>NaN</td>\n",
       "      <td>NaN</td>\n",
       "      <td>NaN</td>\n",
       "      <td>...</td>\n",
       "      <td>NaN</td>\n",
       "      <td>NaN</td>\n",
       "      <td>NaN</td>\n",
       "      <td>NaN</td>\n",
       "      <td>NaN</td>\n",
       "      <td>NaN</td>\n",
       "      <td>NaN</td>\n",
       "      <td>NaN</td>\n",
       "      <td>NaN</td>\n",
       "      <td>NaN</td>\n",
       "    </tr>\n",
       "    <tr>\n",
       "      <th>391</th>\n",
       "      <td>NaN</td>\n",
       "      <td>NaN</td>\n",
       "      <td>NaN</td>\n",
       "      <td>NaN</td>\n",
       "      <td>NaN</td>\n",
       "      <td>NaN</td>\n",
       "      <td>NaN</td>\n",
       "      <td>NaN</td>\n",
       "      <td>NaN</td>\n",
       "      <td>NaN</td>\n",
       "      <td>...</td>\n",
       "      <td>NaN</td>\n",
       "      <td>NaN</td>\n",
       "      <td>NaN</td>\n",
       "      <td>NaN</td>\n",
       "      <td>NaN</td>\n",
       "      <td>NaN</td>\n",
       "      <td>NaN</td>\n",
       "      <td>NaN</td>\n",
       "      <td>NaN</td>\n",
       "      <td>NaN</td>\n",
       "    </tr>\n",
       "    <tr>\n",
       "      <th>392</th>\n",
       "      <td>NaN</td>\n",
       "      <td>NaN</td>\n",
       "      <td>NaN</td>\n",
       "      <td>NaN</td>\n",
       "      <td>NaN</td>\n",
       "      <td>NaN</td>\n",
       "      <td>NaN</td>\n",
       "      <td>NaN</td>\n",
       "      <td>NaN</td>\n",
       "      <td>NaN</td>\n",
       "      <td>...</td>\n",
       "      <td>NaN</td>\n",
       "      <td>NaN</td>\n",
       "      <td>NaN</td>\n",
       "      <td>NaN</td>\n",
       "      <td>NaN</td>\n",
       "      <td>NaN</td>\n",
       "      <td>NaN</td>\n",
       "      <td>NaN</td>\n",
       "      <td>NaN</td>\n",
       "      <td>NaN</td>\n",
       "    </tr>\n",
       "    <tr>\n",
       "      <th>393</th>\n",
       "      <td>NaN</td>\n",
       "      <td>NaN</td>\n",
       "      <td>NaN</td>\n",
       "      <td>NaN</td>\n",
       "      <td>NaN</td>\n",
       "      <td>NaN</td>\n",
       "      <td>NaN</td>\n",
       "      <td>NaN</td>\n",
       "      <td>NaN</td>\n",
       "      <td>NaN</td>\n",
       "      <td>...</td>\n",
       "      <td>NaN</td>\n",
       "      <td>NaN</td>\n",
       "      <td>NaN</td>\n",
       "      <td>NaN</td>\n",
       "      <td>NaN</td>\n",
       "      <td>NaN</td>\n",
       "      <td>NaN</td>\n",
       "      <td>NaN</td>\n",
       "      <td>NaN</td>\n",
       "      <td>NaN</td>\n",
       "    </tr>\n",
       "    <tr>\n",
       "      <th>394</th>\n",
       "      <td>NaN</td>\n",
       "      <td>NaN</td>\n",
       "      <td>NaN</td>\n",
       "      <td>NaN</td>\n",
       "      <td>NaN</td>\n",
       "      <td>NaN</td>\n",
       "      <td>NaN</td>\n",
       "      <td>NaN</td>\n",
       "      <td>NaN</td>\n",
       "      <td>NaN</td>\n",
       "      <td>...</td>\n",
       "      <td>NaN</td>\n",
       "      <td>NaN</td>\n",
       "      <td>NaN</td>\n",
       "      <td>NaN</td>\n",
       "      <td>NaN</td>\n",
       "      <td>NaN</td>\n",
       "      <td>NaN</td>\n",
       "      <td>NaN</td>\n",
       "      <td>NaN</td>\n",
       "      <td>NaN</td>\n",
       "    </tr>\n",
       "    <tr>\n",
       "      <th>...</th>\n",
       "      <td>...</td>\n",
       "      <td>...</td>\n",
       "      <td>...</td>\n",
       "      <td>...</td>\n",
       "      <td>...</td>\n",
       "      <td>...</td>\n",
       "      <td>...</td>\n",
       "      <td>...</td>\n",
       "      <td>...</td>\n",
       "      <td>...</td>\n",
       "      <td>...</td>\n",
       "      <td>...</td>\n",
       "      <td>...</td>\n",
       "      <td>...</td>\n",
       "      <td>...</td>\n",
       "      <td>...</td>\n",
       "      <td>...</td>\n",
       "      <td>...</td>\n",
       "      <td>...</td>\n",
       "      <td>...</td>\n",
       "      <td>...</td>\n",
       "    </tr>\n",
       "    <tr>\n",
       "      <th>20218</th>\n",
       "      <td>NaN</td>\n",
       "      <td>NaN</td>\n",
       "      <td>NaN</td>\n",
       "      <td>NaN</td>\n",
       "      <td>NaN</td>\n",
       "      <td>NaN</td>\n",
       "      <td>NaN</td>\n",
       "      <td>NaN</td>\n",
       "      <td>NaN</td>\n",
       "      <td>NaN</td>\n",
       "      <td>...</td>\n",
       "      <td>NaN</td>\n",
       "      <td>NaN</td>\n",
       "      <td>NaN</td>\n",
       "      <td>NaN</td>\n",
       "      <td>NaN</td>\n",
       "      <td>NaN</td>\n",
       "      <td>NaN</td>\n",
       "      <td>NaN</td>\n",
       "      <td>NaN</td>\n",
       "      <td>NaN</td>\n",
       "    </tr>\n",
       "    <tr>\n",
       "      <th>20220</th>\n",
       "      <td>NaN</td>\n",
       "      <td>NaN</td>\n",
       "      <td>NaN</td>\n",
       "      <td>NaN</td>\n",
       "      <td>NaN</td>\n",
       "      <td>NaN</td>\n",
       "      <td>NaN</td>\n",
       "      <td>NaN</td>\n",
       "      <td>NaN</td>\n",
       "      <td>NaN</td>\n",
       "      <td>...</td>\n",
       "      <td>NaN</td>\n",
       "      <td>NaN</td>\n",
       "      <td>NaN</td>\n",
       "      <td>NaN</td>\n",
       "      <td>NaN</td>\n",
       "      <td>NaN</td>\n",
       "      <td>NaN</td>\n",
       "      <td>NaN</td>\n",
       "      <td>NaN</td>\n",
       "      <td>NaN</td>\n",
       "    </tr>\n",
       "    <tr>\n",
       "      <th>20226</th>\n",
       "      <td>NaN</td>\n",
       "      <td>NaN</td>\n",
       "      <td>NaN</td>\n",
       "      <td>NaN</td>\n",
       "      <td>NaN</td>\n",
       "      <td>NaN</td>\n",
       "      <td>NaN</td>\n",
       "      <td>NaN</td>\n",
       "      <td>NaN</td>\n",
       "      <td>NaN</td>\n",
       "      <td>...</td>\n",
       "      <td>NaN</td>\n",
       "      <td>NaN</td>\n",
       "      <td>NaN</td>\n",
       "      <td>NaN</td>\n",
       "      <td>NaN</td>\n",
       "      <td>NaN</td>\n",
       "      <td>NaN</td>\n",
       "      <td>NaN</td>\n",
       "      <td>NaN</td>\n",
       "      <td>NaN</td>\n",
       "    </tr>\n",
       "    <tr>\n",
       "      <th>20230</th>\n",
       "      <td>NaN</td>\n",
       "      <td>NaN</td>\n",
       "      <td>NaN</td>\n",
       "      <td>NaN</td>\n",
       "      <td>NaN</td>\n",
       "      <td>NaN</td>\n",
       "      <td>NaN</td>\n",
       "      <td>NaN</td>\n",
       "      <td>NaN</td>\n",
       "      <td>NaN</td>\n",
       "      <td>...</td>\n",
       "      <td>NaN</td>\n",
       "      <td>NaN</td>\n",
       "      <td>NaN</td>\n",
       "      <td>NaN</td>\n",
       "      <td>NaN</td>\n",
       "      <td>NaN</td>\n",
       "      <td>NaN</td>\n",
       "      <td>NaN</td>\n",
       "      <td>NaN</td>\n",
       "      <td>NaN</td>\n",
       "    </tr>\n",
       "    <tr>\n",
       "      <th>20231</th>\n",
       "      <td>NaN</td>\n",
       "      <td>NaN</td>\n",
       "      <td>NaN</td>\n",
       "      <td>NaN</td>\n",
       "      <td>NaN</td>\n",
       "      <td>NaN</td>\n",
       "      <td>NaN</td>\n",
       "      <td>NaN</td>\n",
       "      <td>NaN</td>\n",
       "      <td>NaN</td>\n",
       "      <td>...</td>\n",
       "      <td>NaN</td>\n",
       "      <td>NaN</td>\n",
       "      <td>NaN</td>\n",
       "      <td>NaN</td>\n",
       "      <td>NaN</td>\n",
       "      <td>NaN</td>\n",
       "      <td>NaN</td>\n",
       "      <td>NaN</td>\n",
       "      <td>NaN</td>\n",
       "      <td>NaN</td>\n",
       "    </tr>\n",
       "  </tbody>\n",
       "</table>\n",
       "<p>6460 rows × 5916 columns</p>\n",
       "</div>"
      ],
      "text/plain": [
       "Team      (Mercedes) L.Hamilton  (Racing Point) S.Perez  07 Vestur  \\\n",
       "IDUtente                                                             \n",
       "388                         NaN                     NaN        NaN   \n",
       "391                         NaN                     NaN        NaN   \n",
       "392                         NaN                     NaN        NaN   \n",
       "393                         NaN                     NaN        NaN   \n",
       "394                         NaN                     NaN        NaN   \n",
       "...                         ...                     ...        ...   \n",
       "20218                       NaN                     NaN        NaN   \n",
       "20220                       NaN                     NaN        NaN   \n",
       "20226                       NaN                     NaN        NaN   \n",
       "20230                       NaN                     NaN        NaN   \n",
       "20231                       NaN                     NaN        NaN   \n",
       "\n",
       "Team      1 Dezembro  1. FFC Frankfurt Women  1860 Munich  1877 Alemdag  \\\n",
       "IDUtente                                                                  \n",
       "388              NaN                     NaN          NaN           NaN   \n",
       "391              NaN                     NaN          NaN           NaN   \n",
       "392              NaN                     NaN          NaN           NaN   \n",
       "393              NaN                     NaN          NaN           NaN   \n",
       "394              NaN                     NaN          NaN           NaN   \n",
       "...              ...                     ...          ...           ...   \n",
       "20218            NaN                     NaN          NaN           NaN   \n",
       "20220            NaN                     NaN          NaN           NaN   \n",
       "20226            NaN                     NaN          NaN           NaN   \n",
       "20230            NaN                     NaN          NaN           NaN   \n",
       "20231            NaN                     NaN          NaN           NaN   \n",
       "\n",
       "Team      1922 Konyaspor  4 de Julho  9 de Octubre  ...  Zira IK  \\\n",
       "IDUtente                                            ...            \n",
       "388                  NaN         NaN           NaN  ...      NaN   \n",
       "391                  NaN         NaN           NaN  ...      NaN   \n",
       "392                  NaN         NaN           NaN  ...      NaN   \n",
       "393                  NaN         NaN           NaN  ...      NaN   \n",
       "394                  NaN         NaN           NaN  ...      NaN   \n",
       "...                  ...         ...           ...  ...      ...   \n",
       "20218                NaN         NaN           NaN  ...      NaN   \n",
       "20220                NaN         NaN           NaN  ...      NaN   \n",
       "20226                NaN         NaN           NaN  ...      NaN   \n",
       "20230                NaN         NaN           NaN  ...      NaN   \n",
       "20231                NaN         NaN           NaN  ...      NaN   \n",
       "\n",
       "Team      Ziraat Bankasi Ankara  Zlate Moravce  Zlatibor  Znamya Noginsk  \\\n",
       "IDUtente                                                                   \n",
       "388                         NaN            NaN       NaN             NaN   \n",
       "391                         NaN            NaN       NaN             NaN   \n",
       "392                         NaN            NaN       NaN             NaN   \n",
       "393                         NaN            NaN       NaN             NaN   \n",
       "394                         NaN            NaN       NaN             NaN   \n",
       "...                         ...            ...       ...             ...   \n",
       "20218                       NaN            NaN       NaN             NaN   \n",
       "20220                       NaN            NaN       NaN             NaN   \n",
       "20226                       NaN            NaN       NaN             NaN   \n",
       "20230                       NaN            NaN       NaN             NaN   \n",
       "20231                       NaN            NaN       NaN             NaN   \n",
       "\n",
       "Team      Zob Ahan  Zonguldak Komurspor  Zoo Kericho FC  Zrinjski Mostar  \\\n",
       "IDUtente                                                                   \n",
       "388            NaN                  NaN             NaN              NaN   \n",
       "391            NaN                  NaN             NaN              NaN   \n",
       "392            NaN                  NaN             NaN              NaN   \n",
       "393            NaN                  NaN             NaN              NaN   \n",
       "394            NaN                  NaN             NaN              NaN   \n",
       "...            ...                  ...             ...              ...   \n",
       "20218          NaN                  NaN             NaN              NaN   \n",
       "20220          NaN                  NaN             NaN              NaN   \n",
       "20226          NaN                  NaN             NaN              NaN   \n",
       "20230          NaN                  NaN             NaN              NaN   \n",
       "20231          NaN                  NaN             NaN              NaN   \n",
       "\n",
       "Team      Zweigen Kanazawa  \n",
       "IDUtente                    \n",
       "388                    NaN  \n",
       "391                    NaN  \n",
       "392                    NaN  \n",
       "393                    NaN  \n",
       "394                    NaN  \n",
       "...                    ...  \n",
       "20218                  NaN  \n",
       "20220                  NaN  \n",
       "20226                  NaN  \n",
       "20230                  NaN  \n",
       "20231                  NaN  \n",
       "\n",
       "[6460 rows x 5916 columns]"
      ]
     },
     "execution_count": 197,
     "metadata": {},
     "output_type": "execute_result"
    }
   ],
   "source": [
    "df.pivot_table(index='IDUtente', columns='Team', values='Importo')"
   ]
  },
  {
   "cell_type": "markdown",
   "metadata": {},
   "source": [
    "## Data Analysis"
   ]
  },
  {
   "cell_type": "markdown",
   "metadata": {},
   "source": [
    "Plot histogram of whole population"
   ]
  },
  {
   "cell_type": "code",
   "execution_count": 198,
   "metadata": {},
   "outputs": [
    {
     "data": {
      "text/plain": [
       "<AxesSubplot:>"
      ]
     },
     "execution_count": 198,
     "metadata": {},
     "output_type": "execute_result"
    },
    {
     "data": {
      "image/png": "[encoded data removed]",
      "text/plain": [
       "<Figure size 432x288 with 1 Axes>"
      ]
     },
     "metadata": {
      "needs_background": "light"
     },
     "output_type": "display_data"
    }
   ],
   "source": [
    "df['Importo'].hist(bins=100)"
   ]
  },
  {
   "cell_type": "code",
   "execution_count": 261,
   "metadata": {},
   "outputs": [
    {
     "data": {
      "text/plain": [
       "<AxesSubplot:>"
      ]
     },
     "execution_count": 261,
     "metadata": {},
     "output_type": "execute_result"
    },
    {
     "data": {
      "image/png": "[encoded data removed]",
      "text/plain": [
       "<Figure size 432x288 with 1 Axes>"
      ]
     },
     "metadata": {
      "needs_background": "light"
     },
     "output_type": "display_data"
    }
   ],
   "source": [
    "df['Importo'][df['Importo']>10000].hist(bins=100)"
   ]
  },
  {
   "cell_type": "markdown",
   "metadata": {},
   "source": [
    "Showing only one column probably due to skewed data and very big outliers.\n",
    "Taking the log of all items should solve this."
   ]
  },
  {
   "cell_type": "code",
   "execution_count": 199,
   "metadata": {},
   "outputs": [
    {
     "data": {
      "text/plain": [
       "<AxesSubplot:>"
      ]
     },
     "execution_count": 199,
     "metadata": {},
     "output_type": "execute_result"
    },
    {
     "data": {
      "image/png": "[encoded data removed]",
      "text/plain": [
       "<Figure size 432x288 with 1 Axes>"
      ]
     },
     "metadata": {
      "needs_background": "light"
     },
     "output_type": "display_data"
    }
   ],
   "source": [
    "np.log(df['Importo']).hist(bins=100)"
   ]
  },
  {
   "cell_type": "markdown",
   "metadata": {},
   "source": [
    "Looks like a beta distribution but with a bit of a tail on the right side (convolution?)"
   ]
  },
  {
   "cell_type": "markdown",
   "metadata": {},
   "source": [
    "Check how many items there are for each team"
   ]
  },
  {
   "cell_type": "code",
   "execution_count": 200,
   "metadata": {},
   "outputs": [
    {
     "data": {
      "text/plain": [
       "Team\n",
       "Manchester United          1636\n",
       "Chelsea                    1424\n",
       "Manchester City            1389\n",
       "Arsenal                    1376\n",
       "Tottenham Hotspur          1337\n",
       "                           ... \n",
       "Inglewood United SC           1\n",
       "Inegol Bld                    1\n",
       "Indios de Mayaguez            1\n",
       "Indiana State Sycamores       1\n",
       "(Mercedes) L.Hamilton         1\n",
       "Length: 5916, dtype: int64"
      ]
     },
     "execution_count": 200,
     "metadata": {},
     "output_type": "execute_result"
    }
   ],
   "source": [
    "df.value_counts('Team')"
   ]
  },
  {
   "cell_type": "markdown",
   "metadata": {},
   "source": [
    "## Data preparation"
   ]
  },
  {
   "cell_type": "markdown",
   "metadata": {},
   "source": [
    "We want only teams that have been bet on a significant amount of times"
   ]
  },
  {
   "cell_type": "code",
   "execution_count": 201,
   "metadata": {},
   "outputs": [],
   "source": [
    "df = pd.read_csv(r'C:\\Users\\a.ceci\\Desktop\\Alex\\AI Data\\SubEventsCF\\itemCFdata.csv', skiprows=0)\n",
    "#Check for teams that have been bet on less times than arbitrary value\n",
    "min_inst = 150\n",
    "team_count = df.value_counts('Team') < min_inst\n",
    "#Get list of teams to drop\n",
    "teams_to_drop = team_count.where(team_count==True).dropna().index\n",
    "#Drop from dataframe\n",
    "df = df[~df['Team'].isin(teams_to_drop)]\n",
    "\n",
    "#Amount values must be in log form to mitigate bias\n",
    "df['Importo'] = np.log(df['Importo'])\n",
    "#Scale values to standard range for algoritmh to consume\n",
    "#Normalize importo to set a standard range of ratings\n",
    "scaler = pre.MinMaxScaler(feature_range=(0, 5))\n",
    "df['Importo'] = scaler.fit_transform(df[['Importo']])"
   ]
  },
  {
   "cell_type": "code",
   "execution_count": 202,
   "metadata": {},
   "outputs": [
    {
     "data": {
      "text/plain": [
       "Team\n",
       "Manchester United     1636\n",
       "Chelsea               1424\n",
       "Manchester City       1389\n",
       "Arsenal               1376\n",
       "Tottenham Hotspur     1337\n",
       "                      ... \n",
       "Bochum                 158\n",
       "FC Twente Enschede     158\n",
       "Wazito                 158\n",
       "Holstein Kiel          156\n",
       "Portsmouth             150\n",
       "Length: 196, dtype: int64"
      ]
     },
     "execution_count": 202,
     "metadata": {},
     "output_type": "execute_result"
    }
   ],
   "source": [
    "df.value_counts('Team')"
   ]
  },
  {
   "cell_type": "markdown",
   "metadata": {},
   "source": [
    "## Surprise"
   ]
  },
  {
   "cell_type": "code",
   "execution_count": 203,
   "metadata": {},
   "outputs": [],
   "source": [
    "#Load df into surprise Dataset\n",
    "reader = sur.reader.Reader(name=None, line_format=u'user item rating', sep=None, rating_scale=(0, 5), skip_lines=0)\n",
    "data = Dataset.load_from_df(df, reader)"
   ]
  },
  {
   "cell_type": "markdown",
   "metadata": {},
   "source": [
    "### Training"
   ]
  },
  {
   "cell_type": "code",
   "execution_count": 233,
   "metadata": {},
   "outputs": [
    {
     "name": "stdout",
     "output_type": "stream",
     "text": [
      "Computing the pearson similarity matrix...\n",
      "Done computing similarity matrix.\n",
      "\n",
      "Time elapsed:\n",
      "0.5597810745239258\n"
     ]
    }
   ],
   "source": [
    "time_start = time()\n",
    "\n",
    "# Build test dataset\n",
    "trainset = data.build_full_trainset()\n",
    "\n",
    "#Options for algorithm\n",
    "sim_options = {'name': 'pearson',\n",
    "               'user_based': False  #compute similarities between items\n",
    "               }\n",
    "#Using K-Nearest Neighbors\n",
    "algo = KNNBasic(sim_options=sim_options)\n",
    "algo.fit(trainset)\n",
    "\n",
    "print('\\nTime elapsed:')\n",
    "print(time() - time_start)"
   ]
  },
  {
   "cell_type": "markdown",
   "metadata": {},
   "source": [
    "## Predict\n"
   ]
  },
  {
   "cell_type": "markdown",
   "metadata": {},
   "source": [
    "#### Single user"
   ]
  },
  {
   "cell_type": "code",
   "execution_count": 234,
   "metadata": {},
   "outputs": [
    {
     "name": "stdout",
     "output_type": "stream",
     "text": [
      "Time elapsed:  0.22177386283874512 s\n"
     ]
    },
    {
     "data": {
      "text/plain": [
       "defaultdict(list,\n",
       "            {15186: [('Paris Saint Germain', 1.1077626191291203),\n",
       "              ('Werder Bremen', 1.1045585158556188),\n",
       "              ('Cadiz', 1.103043647352336),\n",
       "              ('Ajax', 1.100935355129146),\n",
       "              ('Osasuna', 1.100670993874662),\n",
       "              ('Bayern Munich', 1.100129457699406),\n",
       "              ('AEK Athens', 1.0981405239730417),\n",
       "              ('Celta Vigo', 1.0967508209439936),\n",
       "              ('Torino', 1.0964352492373015),\n",
       "              ('Club Brugge', 1.0962958243100276)]})"
      ]
     },
     "execution_count": 234,
     "metadata": {},
     "output_type": "execute_result"
    }
   ],
   "source": [
    "time_start = time()\n",
    "predictions = []\n",
    "\n",
    "for team in set(df['Team']):\n",
    "    predictions.append(algo.predict(15186, team))\n",
    "\n",
    "top_n = get_top_n(predictions, n=10)\n",
    "print('Time elapsed: ', time() - time_start,'s')\n",
    "top_n"
   ]
  },
  {
   "cell_type": "markdown",
   "metadata": {},
   "source": [
    "#### All Users testing"
   ]
  },
  {
   "cell_type": "code",
   "execution_count": 235,
   "metadata": {},
   "outputs": [
    {
     "name": "stdout",
     "output_type": "stream",
     "text": [
      "1.071144376308592\n",
      "1.0349610506239315\n"
     ]
    }
   ],
   "source": [
    "# Than predict ratings for all pairs (u, i) that are NOT in the training set\n",
    "testset = trainset.build_anti_testset()\n",
    "predictions = algo.test(testset)\n",
    "\n",
    "errors = []\n",
    "\n",
    "for pred in predictions:\n",
    "    error_sq = (pred[2]-pred[3])**2\n",
    "    errors.append(error_sq)\n",
    "\n",
    "mse = sum(errors)/len(errors)\n",
    "rmse = math.sqrt(mse)\n",
    "\n",
    "print('MSE: ', mse)\n",
    "print('RMSE: 'rmse)"
   ]
  },
  {
   "cell_type": "code",
   "execution_count": null,
   "metadata": {},
   "outputs": [],
   "source": []
  },
  {
   "cell_type": "code",
   "execution_count": null,
   "metadata": {},
   "outputs": [],
   "source": []
  },
  {
   "cell_type": "code",
   "execution_count": null,
   "metadata": {},
   "outputs": [],
   "source": []
  },
  {
   "cell_type": "code",
   "execution_count": null,
   "metadata": {},
   "outputs": [],
   "source": []
  }
 ],
 "metadata": {
  "kernelspec": {
   "display_name": "Python 3",
   "language": "python",
   "name": "python3"
  },
  "language_info": {
   "codemirror_mode": {
    "name": "ipython",
    "version": 3
   },
   "file_extension": ".py",
   "mimetype": "text/x-python",
   "name": "python",
   "nbconvert_exporter": "python",
   "pygments_lexer": "ipython3",
   "version": "3.8.5"
  }
 },
 "nbformat": 4,
 "nbformat_minor": 4
}
